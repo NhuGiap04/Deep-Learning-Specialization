{
 "cells": [
  {
   "cell_type": "code",
   "execution_count": 1,
   "id": "77f724d6-f493-4cae-bae9-a2f7bf50d90e",
   "metadata": {},
   "outputs": [],
   "source": [
    "import pandas as pd\n",
    "import numpy as np\n",
    "import matplotlib.pyplot as plt"
   ]
  },
  {
   "cell_type": "code",
   "execution_count": 2,
   "id": "0107c885-b7d7-4429-ac28-ada9bd1c2ced",
   "metadata": {},
   "outputs": [],
   "source": [
    "from sklearn.linear_model import LogisticRegression\n",
    "from sklearn.svm import SVC\n",
    "from sklearn.ensemble import RandomForestClassifier\n",
    "from sklearn.preprocessing import StandardScaler"
   ]
  },
  {
   "cell_type": "code",
   "execution_count": 3,
   "id": "be6f4ae2-4113-4a4d-9238-a626711ddf6d",
   "metadata": {},
   "outputs": [],
   "source": [
    "df0 = pd.read_csv('Datasets/sp500sub.csv', index_col='Date', parse_dates=True)"
   ]
  },
  {
   "cell_type": "code",
   "execution_count": 4,
   "id": "d64f7deb-948c-4162-81f6-45ad71c053f5",
   "metadata": {},
   "outputs": [
    {
     "data": {
      "text/html": [
       "<div>\n",
       "<style scoped>\n",
       "    .dataframe tbody tr th:only-of-type {\n",
       "        vertical-align: middle;\n",
       "    }\n",
       "\n",
       "    .dataframe tbody tr th {\n",
       "        vertical-align: top;\n",
       "    }\n",
       "\n",
       "    .dataframe thead th {\n",
       "        text-align: right;\n",
       "    }\n",
       "</style>\n",
       "<table border=\"1\" class=\"dataframe\">\n",
       "  <thead>\n",
       "    <tr style=\"text-align: right;\">\n",
       "      <th></th>\n",
       "      <th>Open</th>\n",
       "      <th>High</th>\n",
       "      <th>Low</th>\n",
       "      <th>Close</th>\n",
       "      <th>Adj Close</th>\n",
       "      <th>Volume</th>\n",
       "      <th>Name</th>\n",
       "    </tr>\n",
       "    <tr>\n",
       "      <th>Date</th>\n",
       "      <th></th>\n",
       "      <th></th>\n",
       "      <th></th>\n",
       "      <th></th>\n",
       "      <th></th>\n",
       "      <th></th>\n",
       "      <th></th>\n",
       "    </tr>\n",
       "  </thead>\n",
       "  <tbody>\n",
       "    <tr>\n",
       "      <th>2010-01-04</th>\n",
       "      <td>9.22</td>\n",
       "      <td>9.51</td>\n",
       "      <td>9.17</td>\n",
       "      <td>9.50</td>\n",
       "      <td>9.50</td>\n",
       "      <td>1865400.0</td>\n",
       "      <td>INCY</td>\n",
       "    </tr>\n",
       "    <tr>\n",
       "      <th>2010-01-05</th>\n",
       "      <td>9.51</td>\n",
       "      <td>10.29</td>\n",
       "      <td>9.45</td>\n",
       "      <td>10.27</td>\n",
       "      <td>10.27</td>\n",
       "      <td>7608900.0</td>\n",
       "      <td>INCY</td>\n",
       "    </tr>\n",
       "    <tr>\n",
       "      <th>2010-01-06</th>\n",
       "      <td>10.38</td>\n",
       "      <td>11.09</td>\n",
       "      <td>10.35</td>\n",
       "      <td>11.00</td>\n",
       "      <td>11.00</td>\n",
       "      <td>8046700.0</td>\n",
       "      <td>INCY</td>\n",
       "    </tr>\n",
       "    <tr>\n",
       "      <th>2010-01-07</th>\n",
       "      <td>11.00</td>\n",
       "      <td>11.06</td>\n",
       "      <td>10.62</td>\n",
       "      <td>10.82</td>\n",
       "      <td>10.82</td>\n",
       "      <td>3680300.0</td>\n",
       "      <td>INCY</td>\n",
       "    </tr>\n",
       "    <tr>\n",
       "      <th>2010-01-08</th>\n",
       "      <td>10.82</td>\n",
       "      <td>11.00</td>\n",
       "      <td>10.75</td>\n",
       "      <td>10.94</td>\n",
       "      <td>10.94</td>\n",
       "      <td>1529300.0</td>\n",
       "      <td>INCY</td>\n",
       "    </tr>\n",
       "  </tbody>\n",
       "</table>\n",
       "</div>"
      ],
      "text/plain": [
       "             Open   High    Low  Close  Adj Close     Volume  Name\n",
       "Date                                                              \n",
       "2010-01-04   9.22   9.51   9.17   9.50       9.50  1865400.0  INCY\n",
       "2010-01-05   9.51  10.29   9.45  10.27      10.27  7608900.0  INCY\n",
       "2010-01-06  10.38  11.09  10.35  11.00      11.00  8046700.0  INCY\n",
       "2010-01-07  11.00  11.06  10.62  10.82      10.82  3680300.0  INCY\n",
       "2010-01-08  10.82  11.00  10.75  10.94      10.94  1529300.0  INCY"
      ]
     },
     "execution_count": 4,
     "metadata": {},
     "output_type": "execute_result"
    }
   ],
   "source": [
    "df0.head()"
   ]
  },
  {
   "cell_type": "code",
   "execution_count": 5,
   "id": "58e4d692-6897-445c-b42b-5ea77aa90f6d",
   "metadata": {},
   "outputs": [],
   "source": [
    "df = df0[df0['Name'] == 'IBM'][['Close']].copy()"
   ]
  },
  {
   "cell_type": "code",
   "execution_count": 6,
   "id": "ae36c865-fc59-4c88-b397-aab21b593106",
   "metadata": {},
   "outputs": [],
   "source": [
    "df['LogClose'] = np.log(df['Close'])"
   ]
  },
  {
   "cell_type": "code",
   "execution_count": 7,
   "id": "ed90b909-0e83-4c78-ba01-2601208cd073",
   "metadata": {},
   "outputs": [],
   "source": [
    "df['LogReturn'] = df['LogClose'].diff()"
   ]
  },
  {
   "cell_type": "code",
   "execution_count": 8,
   "id": "cfcf05de-7f16-44d8-a11c-f441fb7e9228",
   "metadata": {},
   "outputs": [],
   "source": [
    "Ntest = 252\n",
    "train = df.iloc[:-Ntest]\n",
    "test = df.iloc[-Ntest:]"
   ]
  },
  {
   "cell_type": "code",
   "execution_count": 9,
   "id": "df3539d6-cd8c-48a5-87bb-099b8b75a493",
   "metadata": {},
   "outputs": [
    {
     "name": "stdout",
     "output_type": "stream",
     "text": [
      "X.shape (2241, 21) Y.shape (2241,)\n"
     ]
    }
   ],
   "source": [
    "# Make supervised dataset\n",
    "# let's see if we can use T past values to predict the next value\n",
    "\n",
    "series = df['LogReturn'].to_numpy()[1:] # first value is nan\n",
    "target = (series > 0) * 1\n",
    "\n",
    "T = 21\n",
    "X = []\n",
    "Y = []\n",
    "# count up to 1 less than before, since there is no target for last close\n",
    "for t in range(len(series) - T):\n",
    "  x = series[t:t+T]\n",
    "  X.append(x)\n",
    "  y = target[t+T]\n",
    "  Y.append(y)\n",
    "\n",
    "X = np.array(X).reshape(-1, T)\n",
    "Y = np.array(Y)\n",
    "N = len(X)\n",
    "print(\"X.shape\", X.shape, \"Y.shape\", Y.shape)"
   ]
  },
  {
   "cell_type": "code",
   "execution_count": 10,
   "id": "bdb24509-8bad-4c4f-8d4b-7b999d0e32c2",
   "metadata": {},
   "outputs": [],
   "source": [
    "Xtrain, Ytrain = X[:-Ntest], Y[:-Ntest]\n",
    "Xtest, Ytest = X[-Ntest:], Y[-Ntest:]"
   ]
  },
  {
   "cell_type": "code",
   "execution_count": 11,
   "id": "e9a78cad-7a24-4681-a51a-227b2f2018ae",
   "metadata": {},
   "outputs": [
    {
     "data": {
      "text/plain": [
       "0.5093011563599799"
      ]
     },
     "execution_count": 11,
     "metadata": {},
     "output_type": "execute_result"
    }
   ],
   "source": [
    "lr = LogisticRegression()\n",
    "lr.fit(Xtrain, Ytrain)\n",
    "lr.score(Xtrain, Ytrain)"
   ]
  },
  {
   "cell_type": "code",
   "execution_count": 12,
   "id": "2f15ab75-b4a8-4836-9187-c7724b4b222b",
   "metadata": {},
   "outputs": [
    {
     "data": {
      "text/plain": [
       "0.49603174603174605"
      ]
     },
     "execution_count": 12,
     "metadata": {},
     "output_type": "execute_result"
    }
   ],
   "source": [
    "lr.score(Xtest, Ytest)"
   ]
  },
  {
   "cell_type": "code",
   "execution_count": 13,
   "id": "962f111d-2276-40b2-b5e8-fba7942c7533",
   "metadata": {},
   "outputs": [
    {
     "data": {
      "text/plain": [
       "0.7551533433886375"
      ]
     },
     "execution_count": 13,
     "metadata": {},
     "output_type": "execute_result"
    }
   ],
   "source": [
    "svc = SVC()\n",
    "svc.fit(Xtrain, Ytrain)\n",
    "svc.score(Xtrain, Ytrain)"
   ]
  },
  {
   "cell_type": "code",
   "execution_count": 14,
   "id": "52f6e1e6-c572-4463-b1c8-346ae8f9f1a5",
   "metadata": {},
   "outputs": [
    {
     "data": {
      "text/plain": [
       "0.49603174603174605"
      ]
     },
     "execution_count": 14,
     "metadata": {},
     "output_type": "execute_result"
    }
   ],
   "source": [
    "svc.score(Xtest, Ytest)"
   ]
  },
  {
   "cell_type": "code",
   "execution_count": 15,
   "id": "d43e25da-241d-4dfc-8911-61cfe7507b50",
   "metadata": {},
   "outputs": [
    {
     "data": {
      "text/plain": [
       "1.0"
      ]
     },
     "execution_count": 15,
     "metadata": {},
     "output_type": "execute_result"
    }
   ],
   "source": [
    "rf = RandomForestClassifier()\n",
    "rf.fit(Xtrain, Ytrain)\n",
    "rf.score(Xtrain, Ytrain)"
   ]
  },
  {
   "cell_type": "code",
   "execution_count": 16,
   "id": "debfccd8-b08e-4434-a117-8e8142043295",
   "metadata": {},
   "outputs": [
    {
     "data": {
      "text/plain": [
       "0.48412698412698413"
      ]
     },
     "execution_count": 16,
     "metadata": {},
     "output_type": "execute_result"
    }
   ],
   "source": [
    "rf.score(Xtest, Ytest)"
   ]
  },
  {
   "cell_type": "code",
   "execution_count": 17,
   "id": "eb818db1-f6b8-4082-a81e-28fc2f07d14e",
   "metadata": {},
   "outputs": [],
   "source": [
    "# Exercise: maybe you believe walk-forward validation will be\n",
    "# more realistic - will it lead to better results?"
   ]
  },
  {
   "cell_type": "code",
   "execution_count": null,
   "id": "e554617f-d327-49f0-839c-744d7658b9aa",
   "metadata": {},
   "outputs": [],
   "source": [
    "# Exericise: do you think using raw (log) prices would have worked?"
   ]
  }
 ],
 "metadata": {
  "kernelspec": {
   "display_name": "Python 3 (ipykernel)",
   "language": "python",
   "name": "python3"
  },
  "language_info": {
   "codemirror_mode": {
    "name": "ipython",
    "version": 3
   },
   "file_extension": ".py",
   "mimetype": "text/x-python",
   "name": "python",
   "nbconvert_exporter": "python",
   "pygments_lexer": "ipython3",
   "version": "3.10.14"
  }
 },
 "nbformat": 4,
 "nbformat_minor": 5
}
